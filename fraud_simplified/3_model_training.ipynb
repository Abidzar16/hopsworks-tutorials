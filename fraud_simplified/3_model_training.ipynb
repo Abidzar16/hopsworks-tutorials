{
 "cells": [
  {
   "cell_type": "markdown",
   "id": "98f1c15f",
   "metadata": {},
   "source": [
    "# <span style=\"font-width:bold; font-size: 3rem; color:#1EB182;\"><img src=\"images/icon102.png\" width=\"38px\"></img> **Hopsworks Feature Store** </span><span style=\"font-width:bold; font-size: 3rem; color:#333;\">- Part 03: Model training & UI Exploration</span>\n",
    "\n",
    "<span style=\"font-width:bold; font-size: 1.4rem;\">In this last notebook, we will train a model on the dataset we created in the previous tutorial. We will train our model using standard Python and Scikit-learn, although it could just as well be trained with other machine learning frameworks such as PySpark, TensorFlow, and PyTorch. We will also show some of the exploration that can be done in Hopsworks, notably the search functions and the lineage. </span>\n",
    "\n",
    "## **🗒️ This notebook is divided in 3 main sections:** \n",
    "1. **Loading the training data**\n",
    "2. **Train the model**\n",
    "3. **Explore feature groups and views** via the UI.\n",
    "\n",
    "![tutorial-flow](images/03_model.png)"
   ]
  },
  {
   "cell_type": "code",
   "execution_count": 1,
   "id": "f9e153a3",
   "metadata": {},
   "outputs": [
    {
     "name": "stdout",
     "output_type": "stream",
     "text": [
      "Connected. Call `.close()` to terminate connection gracefully.\n"
     ]
    }
   ],
   "source": [
    "import hsfs\n",
    "\n",
    "conn = hsfs.connection()\n",
    "fs = conn.get_feature_store()"
   ]
  },
  {
   "cell_type": "markdown",
   "id": "ec8728ee",
   "metadata": {},
   "source": [
    "## <span style=\"color:#ff5f27;\"> ✨ Load Training Data </span>\n",
    "\n",
    "First, we'll need to fetch the training dataset that we created in the previous notebook. We will use January - February data training and testing."
   ]
  },
  {
   "cell_type": "code",
   "execution_count": 2,
   "id": "21fe50a3",
   "metadata": {},
   "outputs": [
    {
     "name": "stderr",
     "output_type": "stream",
     "text": [
      "UserWarning: Training dataset splits were defined but no `train_split` (the name of the split that is going to be used for training) was provided. Setting this property to `train`. The statistics of this split will be used for transformation functions.\n",
      "FutureWarning: pyarrow.hdfs.HadoopFileSystem is deprecated as of 2.0.0, please use pyarrow.fs.HadoopFileSystem instead.\n"
     ]
    }
   ],
   "source": [
    "import pandas as pd\n",
    "from sklearn.linear_model import LogisticRegression\n",
    "\n",
    "# Load data.\n",
    "feature_view = fs.get_feature_view(\"transactions_view\", 1)\n",
    "_, df = feature_view.get_training_dataset_splits({'train': 80, 'validation': 20}, version = 1)\n",
    "\n",
    "X_train = df[\"train\"]\n",
    "X_val = df['validation']"
   ]
  },
  {
   "cell_type": "markdown",
   "id": "cb6a5266",
   "metadata": {},
   "source": [
    "We will train a model to predict `fraud_label` given the rest of the features."
   ]
  },
  {
   "cell_type": "code",
   "execution_count": 3,
   "id": "c4412f5b",
   "metadata": {},
   "outputs": [],
   "source": [
    "# Separate target feature from input features.\n",
    "target = target = feature_view.label[0]  \n",
    "y_train = X_train.pop(target)\n",
    "y_val = X_val.pop(target)"
   ]
  },
  {
   "cell_type": "markdown",
   "id": "9cc5c724",
   "metadata": {},
   "source": [
    "Let's check the distribution of our target label."
   ]
  },
  {
   "cell_type": "code",
   "execution_count": 4,
   "id": "6eeeaaba",
   "metadata": {},
   "outputs": [
    {
     "data": {
      "text/plain": [
       "0    0.998337\n",
       "1    0.001663\n",
       "Name: fraud_label, dtype: float64"
      ]
     },
     "execution_count": 4,
     "metadata": {},
     "output_type": "execute_result"
    }
   ],
   "source": [
    "y_train.value_counts(normalize=True)"
   ]
  },
  {
   "cell_type": "markdown",
   "id": "9d079251",
   "metadata": {},
   "source": [
    "Notice that the distribution is extremely skewed, which is natural considering that fraudulent transactions make up a tiny part of all transactions. Thus we should somehow address the class imbalance. There are many approaches for this, such as weighting the loss function, over- or undersampling, creating synthetic data, or modifying the decision threshold. In this example, we'll use the simplest method which is to just supply a class weight parameter to our learning algorithm. The class weight will affect how much importance is attached to each class, which in our case means that higher importance will be placed on positive (fraudulent) samples."
   ]
  },
  {
   "cell_type": "markdown",
   "id": "975ce872",
   "metadata": {},
   "source": [
    "## <span style=\"color:#ff5f27;\"> 🏃 Train Model</span>\n",
    "\n",
    "Next we'll train a model. Here, we set the class weight of the positive class to be twice as big as the negative class."
   ]
  },
  {
   "cell_type": "code",
   "execution_count": 5,
   "id": "0f877a23",
   "metadata": {},
   "outputs": [
    {
     "data": {
      "text/plain": [
       "LogisticRegression(C=1.0, class_weight={0: 0.09999999999999998, 1: 0.9},\n",
       "                   dual=False, fit_intercept=True, intercept_scaling=1,\n",
       "                   l1_ratio=None, max_iter=100, multi_class='auto', n_jobs=None,\n",
       "                   penalty='l2', random_state=None, solver='liblinear',\n",
       "                   tol=0.0001, verbose=0, warm_start=False)"
      ]
     },
     "execution_count": 5,
     "metadata": {},
     "output_type": "execute_result"
    }
   ],
   "source": [
    "# Train model.\n",
    "pos_class_weight = 0.9\n",
    "clf = LogisticRegression(class_weight={0: 1.0 - pos_class_weight, 1: pos_class_weight}, solver='liblinear')\n",
    "clf.fit(X_train, y_train)"
   ]
  },
  {
   "cell_type": "markdown",
   "id": "231b5919",
   "metadata": {},
   "source": [
    "Let's see how well it performs on our validation data."
   ]
  },
  {
   "cell_type": "code",
   "execution_count": 6,
   "id": "cc60d05a",
   "metadata": {},
   "outputs": [
    {
     "name": "stdout",
     "output_type": "stream",
     "text": [
      "              precision    recall  f1-score   support\n",
      "\n",
      "           0       1.00      1.00      1.00     18393\n",
      "           1       0.00      0.00      0.00        31\n",
      "\n",
      "    accuracy                           1.00     18424\n",
      "   macro avg       0.50      0.50      0.50     18424\n",
      "weighted avg       1.00      1.00      1.00     18424\n",
      "\n"
     ]
    },
    {
     "name": "stderr",
     "output_type": "stream",
     "text": [
      "UndefinedMetricWarning: Precision and F-score are ill-defined and being set to 0.0 in labels with no predicted samples. Use `zero_division` parameter to control this behavior.\n"
     ]
    }
   ],
   "source": [
    "from sklearn.metrics import classification_report\n",
    "\n",
    "preds = clf.predict(X_val)\n",
    "\n",
    "print(classification_report(y_val, preds))\n"
   ]
  },
  {
   "cell_type": "markdown",
   "id": "a912f4b4",
   "metadata": {},
   "source": [
    "## <span style=\"color:#ff5f27;\">  Use the model to score transactions </span>\n",
    "We trained model based on January - February data. Now lets retrieve March data and score whether transactions are fraudulend or not   \n"
   ]
  },
  {
   "cell_type": "code",
   "execution_count": 7,
   "id": "334d149f",
   "metadata": {},
   "outputs": [
    {
     "name": "stdout",
     "output_type": "stream",
     "text": [
      "2022-05-31 21:10:33,992 INFO: USE `fraud_simplified_featurestore`\n",
      "2022-05-31 21:10:34,773 INFO: WITH right_fg0 AS (SELECT *\n",
      "FROM (SELECT `fg1`.`category` `category`, `fg1`.`amount` `amount`, `fg1`.`age_at_transaction` `age_at_transaction`, `fg1`.`days_until_card_expires` `days_until_card_expires`, `fg1`.`loc_delta` `loc_delta`, `fg1`.`cc_num` `join_pk_cc_num`, `fg1`.`datetime` `join_evt_datetime`, `fg0`.`trans_volume_mstd` `trans_volume_mstd`, `fg0`.`trans_volume_mavg` `trans_volume_mavg`, `fg0`.`trans_freq` `trans_freq`, `fg0`.`loc_delta_mavg` `loc_delta_mavg`, RANK() OVER (PARTITION BY `fg1`.`cc_num`, `fg1`.`datetime` ORDER BY `fg0`.`datetime` DESC) pit_rank_hopsworks\n",
      "FROM `fraud_simplified_featurestore`.`transactions_1` `fg1`\n",
      "INNER JOIN `fraud_simplified_featurestore`.`transactions_4h_aggs_1` `fg0` ON `fg1`.`cc_num` = `fg0`.`cc_num` AND `fg1`.`datetime` >= `fg0`.`datetime`\n",
      "WHERE `fg1`.`datetime` >= 1641168001000 AND `fg1`.`datetime` <= 1648771199000) NA\n",
      "WHERE `pit_rank_hopsworks` = 1) (SELECT `right_fg0`.`category` `category`, `right_fg0`.`amount` `amount`, `right_fg0`.`age_at_transaction` `age_at_transaction`, `right_fg0`.`days_until_card_expires` `days_until_card_expires`, `right_fg0`.`loc_delta` `loc_delta`, `right_fg0`.`trans_volume_mstd` `trans_volume_mstd`, `right_fg0`.`trans_volume_mavg` `trans_volume_mavg`, `right_fg0`.`trans_freq` `trans_freq`, `right_fg0`.`loc_delta_mavg` `loc_delta_mavg`\n",
      "FROM right_fg0)\n"
     ]
    }
   ],
   "source": [
    "from datetime import datetime\n",
    "date_format = \"%Y-%m-%d %H:%M:%S\"\n",
    "# Create training datasets based event time filter\n",
    "start_time = int(float(datetime.strptime(\"2022-01-03 00:00:01\", date_format).timestamp()) * 1000)\n",
    "end_time = int(float(datetime.strptime(\"2022-03-31 23:59:59\", date_format).timestamp()) * 1000)\n",
    "\n",
    "feature_view.init_batch_scoring(1)\n",
    "march_transactions = feature_view.get_batch_data(start_time = start_time,  end_time = end_time)"
   ]
  },
  {
   "cell_type": "code",
   "execution_count": 8,
   "id": "b9ad24ae",
   "metadata": {},
   "outputs": [
    {
     "data": {
      "text/html": [
       "<div>\n",
       "<style scoped>\n",
       "    .dataframe tbody tr th:only-of-type {\n",
       "        vertical-align: middle;\n",
       "    }\n",
       "\n",
       "    .dataframe tbody tr th {\n",
       "        vertical-align: top;\n",
       "    }\n",
       "\n",
       "    .dataframe thead th {\n",
       "        text-align: right;\n",
       "    }\n",
       "</style>\n",
       "<table border=\"1\" class=\"dataframe\">\n",
       "  <thead>\n",
       "    <tr style=\"text-align: right;\">\n",
       "      <th></th>\n",
       "      <th>category</th>\n",
       "      <th>amount</th>\n",
       "      <th>age_at_transaction</th>\n",
       "      <th>days_until_card_expires</th>\n",
       "      <th>loc_delta</th>\n",
       "      <th>trans_volume_mstd</th>\n",
       "      <th>trans_volume_mavg</th>\n",
       "      <th>trans_freq</th>\n",
       "      <th>loc_delta_mavg</th>\n",
       "    </tr>\n",
       "  </thead>\n",
       "  <tbody>\n",
       "    <tr>\n",
       "      <th>0</th>\n",
       "      <td>4</td>\n",
       "      <td>0.003120</td>\n",
       "      <td>0.091487</td>\n",
       "      <td>0.117163</td>\n",
       "      <td>0.000000</td>\n",
       "      <td>0.003120</td>\n",
       "      <td>0.003120</td>\n",
       "      <td>0.003120</td>\n",
       "      <td>0.000000</td>\n",
       "    </tr>\n",
       "    <tr>\n",
       "      <th>1</th>\n",
       "      <td>2</td>\n",
       "      <td>0.002173</td>\n",
       "      <td>0.091506</td>\n",
       "      <td>0.116883</td>\n",
       "      <td>0.122200</td>\n",
       "      <td>0.002173</td>\n",
       "      <td>0.002173</td>\n",
       "      <td>0.002173</td>\n",
       "      <td>0.132292</td>\n",
       "    </tr>\n",
       "    <tr>\n",
       "      <th>2</th>\n",
       "      <td>4</td>\n",
       "      <td>0.000008</td>\n",
       "      <td>0.091513</td>\n",
       "      <td>0.116773</td>\n",
       "      <td>0.120125</td>\n",
       "      <td>0.000008</td>\n",
       "      <td>0.000008</td>\n",
       "      <td>0.000008</td>\n",
       "      <td>0.130046</td>\n",
       "    </tr>\n",
       "    <tr>\n",
       "      <th>3</th>\n",
       "      <td>4</td>\n",
       "      <td>0.000047</td>\n",
       "      <td>0.091518</td>\n",
       "      <td>0.116696</td>\n",
       "      <td>0.000000</td>\n",
       "      <td>0.000028</td>\n",
       "      <td>0.000028</td>\n",
       "      <td>0.000028</td>\n",
       "      <td>0.065023</td>\n",
       "    </tr>\n",
       "    <tr>\n",
       "      <th>4</th>\n",
       "      <td>4</td>\n",
       "      <td>0.000659</td>\n",
       "      <td>0.091615</td>\n",
       "      <td>0.115229</td>\n",
       "      <td>0.040270</td>\n",
       "      <td>0.000659</td>\n",
       "      <td>0.000659</td>\n",
       "      <td>0.000659</td>\n",
       "      <td>0.043596</td>\n",
       "    </tr>\n",
       "    <tr>\n",
       "      <th>...</th>\n",
       "      <td>...</td>\n",
       "      <td>...</td>\n",
       "      <td>...</td>\n",
       "      <td>...</td>\n",
       "      <td>...</td>\n",
       "      <td>...</td>\n",
       "      <td>...</td>\n",
       "      <td>...</td>\n",
       "      <td>...</td>\n",
       "    </tr>\n",
       "    <tr>\n",
       "      <th>102971</th>\n",
       "      <td>0</td>\n",
       "      <td>0.000736</td>\n",
       "      <td>0.357286</td>\n",
       "      <td>0.467677</td>\n",
       "      <td>0.228904</td>\n",
       "      <td>0.000736</td>\n",
       "      <td>0.000736</td>\n",
       "      <td>0.000736</td>\n",
       "      <td>0.247809</td>\n",
       "    </tr>\n",
       "    <tr>\n",
       "      <th>102972</th>\n",
       "      <td>0</td>\n",
       "      <td>0.002816</td>\n",
       "      <td>0.357321</td>\n",
       "      <td>0.467147</td>\n",
       "      <td>0.166719</td>\n",
       "      <td>0.002816</td>\n",
       "      <td>0.002816</td>\n",
       "      <td>0.002816</td>\n",
       "      <td>0.180488</td>\n",
       "    </tr>\n",
       "    <tr>\n",
       "      <th>102973</th>\n",
       "      <td>0</td>\n",
       "      <td>0.002934</td>\n",
       "      <td>0.357325</td>\n",
       "      <td>0.467088</td>\n",
       "      <td>0.166874</td>\n",
       "      <td>0.002875</td>\n",
       "      <td>0.002875</td>\n",
       "      <td>0.002875</td>\n",
       "      <td>0.180572</td>\n",
       "    </tr>\n",
       "    <tr>\n",
       "      <th>102974</th>\n",
       "      <td>0</td>\n",
       "      <td>0.010322</td>\n",
       "      <td>0.357392</td>\n",
       "      <td>0.466076</td>\n",
       "      <td>0.001149</td>\n",
       "      <td>0.010322</td>\n",
       "      <td>0.010322</td>\n",
       "      <td>0.010322</td>\n",
       "      <td>0.001244</td>\n",
       "    </tr>\n",
       "    <tr>\n",
       "      <th>102975</th>\n",
       "      <td>0</td>\n",
       "      <td>0.000592</td>\n",
       "      <td>0.357526</td>\n",
       "      <td>0.464050</td>\n",
       "      <td>0.166690</td>\n",
       "      <td>0.000592</td>\n",
       "      <td>0.000592</td>\n",
       "      <td>0.000592</td>\n",
       "      <td>0.180457</td>\n",
       "    </tr>\n",
       "  </tbody>\n",
       "</table>\n",
       "<p>102976 rows × 9 columns</p>\n",
       "</div>"
      ],
      "text/plain": [
       "        category    amount  age_at_transaction  days_until_card_expires  \\\n",
       "0              4  0.003120            0.091487                 0.117163   \n",
       "1              2  0.002173            0.091506                 0.116883   \n",
       "2              4  0.000008            0.091513                 0.116773   \n",
       "3              4  0.000047            0.091518                 0.116696   \n",
       "4              4  0.000659            0.091615                 0.115229   \n",
       "...          ...       ...                 ...                      ...   \n",
       "102971         0  0.000736            0.357286                 0.467677   \n",
       "102972         0  0.002816            0.357321                 0.467147   \n",
       "102973         0  0.002934            0.357325                 0.467088   \n",
       "102974         0  0.010322            0.357392                 0.466076   \n",
       "102975         0  0.000592            0.357526                 0.464050   \n",
       "\n",
       "        loc_delta  trans_volume_mstd  trans_volume_mavg  trans_freq  \\\n",
       "0        0.000000           0.003120           0.003120    0.003120   \n",
       "1        0.122200           0.002173           0.002173    0.002173   \n",
       "2        0.120125           0.000008           0.000008    0.000008   \n",
       "3        0.000000           0.000028           0.000028    0.000028   \n",
       "4        0.040270           0.000659           0.000659    0.000659   \n",
       "...           ...                ...                ...         ...   \n",
       "102971   0.228904           0.000736           0.000736    0.000736   \n",
       "102972   0.166719           0.002816           0.002816    0.002816   \n",
       "102973   0.166874           0.002875           0.002875    0.002875   \n",
       "102974   0.001149           0.010322           0.010322    0.010322   \n",
       "102975   0.166690           0.000592           0.000592    0.000592   \n",
       "\n",
       "        loc_delta_mavg  \n",
       "0             0.000000  \n",
       "1             0.132292  \n",
       "2             0.130046  \n",
       "3             0.065023  \n",
       "4             0.043596  \n",
       "...                ...  \n",
       "102971        0.247809  \n",
       "102972        0.180488  \n",
       "102973        0.180572  \n",
       "102974        0.001244  \n",
       "102975        0.180457  \n",
       "\n",
       "[102976 rows x 9 columns]"
      ]
     },
     "execution_count": 8,
     "metadata": {},
     "output_type": "execute_result"
    }
   ],
   "source": [
    "march_transactions"
   ]
  },
  {
   "cell_type": "code",
   "execution_count": 9,
   "id": "f68bf863",
   "metadata": {},
   "outputs": [],
   "source": [
    "predictions = clf.predict(march_transactions)"
   ]
  },
  {
   "cell_type": "code",
   "execution_count": 10,
   "id": "67918492",
   "metadata": {},
   "outputs": [
    {
     "data": {
      "text/plain": [
       "array([0, 0, 0, ..., 0, 0, 0])"
      ]
     },
     "execution_count": 10,
     "metadata": {},
     "output_type": "execute_result"
    }
   ],
   "source": [
    "predictions"
   ]
  },
  {
   "cell_type": "markdown",
   "id": "da8a8ed3",
   "metadata": {},
   "source": [
    "## <span style=\"color:#ff5f27;\"> 👓  Exploration</span>\n",
    "In the Hopsworks feature store, the metadata allows for multiple levels of explorations and review. Here we will show a few of those capacities. \n",
    "\n",
    "### 🔎 <b>Search</b> \n",
    "Using the search function in the ui, you can query any aspect of the feature groups and training data that was previously created. In the gif below we show how the tag we added in the first section can be searched to get all the feature groups with the `PII` tag value.\n",
    "\n",
    "### 📊 <b>Statistics</b> \n",
    "We can also enable statistics in one or all the feature groups here we commented the command so that it wouldnt run for too long. "
   ]
  },
  {
   "cell_type": "code",
   "execution_count": null,
   "id": "7db8a97b",
   "metadata": {},
   "outputs": [],
   "source": [
    "#trans_fg = fs.get_feature_group()\n",
    "#trans_fg.update_statistics_config(\n",
    "#       enabled=True, \n",
    "#       correlations=False, \n",
    "#       histograms=False, \n",
    "#)"
   ]
  },
  {
   "cell_type": "markdown",
   "id": "a46342ce",
   "metadata": {},
   "source": [
    "\n",
    "### ⛓️ <b> Lineage </b> \n",
    "In all the feature groups and feature view you can look at the relation between each abstractions; what feature group created which training dataset and that is used in which model.\n",
    "This allows for a clear undestanding of the pipeline in relation to each element. "
   ]
  },
  {
   "cell_type": "markdown",
   "id": "f9da2343",
   "metadata": {},
   "source": [
    "## <span style=\"color:#ff5f27;\"> 🎁  Wrapping things up </span>\n",
    "\n",
    "We have now performed a simple training with training data that we have created in the feature store. This concludes the fisrt module and introduction to the core aspect of the feauture store. In the second module we will introduce streaming and external feature groups for a similar fraud use case."
   ]
  }
 ],
 "metadata": {
  "kernelspec": {
   "display_name": "Python",
   "language": "python",
   "name": "python3"
  },
  "language_info": {
   "codemirror_mode": {
    "name": "ipython",
    "version": 3
   },
   "file_extension": ".py",
   "mimetype": "text/x-python",
   "name": "python",
   "nbconvert_exporter": "python",
   "pygments_lexer": "ipython3",
   "version": "3.8.11"
  }
 },
 "nbformat": 4,
 "nbformat_minor": 5
}